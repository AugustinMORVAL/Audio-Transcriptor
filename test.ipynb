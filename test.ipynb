{
 "cells": [
  {
   "cell_type": "code",
   "execution_count": 10,
   "metadata": {},
   "outputs": [],
   "source": [
    "import speech_recognition as sr\n",
    "    \n",
    "def ask_user() -> int:\n",
    "    available_inputs = sr.Microphone.list_microphone_names()\n",
    "    mics = {str(i): name for i, name in enumerate(available_inputs)}\n",
    "    print(\"Select input device to use for recording : \")\n",
    "    for i, audio in mics.items():\n",
    "        print(f\"[{i}] {audio}\")\n",
    "    mic_index = int(input(\"Enter the number of the device : \"))\n",
    "    if mic_index < 0 or mic_index >= len(mics):\n",
    "        print(\"Invalid input. Please select a valid device number.\")\n",
    "        return ask_user()\n",
    "    device = available_inputs[mic_index]\n",
    "    print(f'You selected {device}.')\n",
    "    return mic_index"
   ]
  },
  {
   "cell_type": "code",
   "execution_count": 11,
   "metadata": {},
   "outputs": [
    {
     "name": "stdout",
     "output_type": "stream",
     "text": [
      "Select input device to use for recording : \n",
      "[0] Microsoft Sound Mapper - Output\n",
      "[1] Speakers (High Definition Audio\n",
      "[2] PÃ©riphÃ©rique audio principal\n",
      "[3] Speakers (High Definition Audio Device)\n",
      "[4] Speakers (High Definition Audio Device)\n",
      "[5] Speakers (HD Audio Speaker)\n",
      "[6] Headphones ()\n",
      "You selected Microsoft Sound Mapper - Output.\n"
     ]
    },
    {
     "data": {
      "text/plain": [
       "0"
      ]
     },
     "execution_count": 11,
     "metadata": {},
     "output_type": "execute_result"
    }
   ],
   "source": [
    "ask_user(\n",
    "    \n",
    ")"
   ]
  },
  {
   "cell_type": "code",
   "execution_count": 9,
   "metadata": {},
   "outputs": [
    {
     "data": {
      "text/plain": [
       "'Microsoft Sound Mapper - Output'"
      ]
     },
     "execution_count": 9,
     "metadata": {},
     "output_type": "execute_result"
    }
   ],
   "source": [
    "available_inputs = sr.Microphone.list_microphone_names()\n",
    "available_inputs[0]"
   ]
  },
  {
   "cell_type": "code",
   "execution_count": 2,
   "metadata": {},
   "outputs": [
    {
     "name": "stdout",
     "output_type": "stream",
     "text": [
      "All devices are available.\n",
      "Number of available devices:  6\n",
      "Recording...\n"
     ]
    },
    {
     "ename": "AttributeError",
     "evalue": "'NoneType' object has no attribute 'close'",
     "output_type": "error",
     "traceback": [
      "\u001b[1;31m---------------------------------------------------------------------------\u001b[0m",
      "\u001b[1;31mAssertionError\u001b[0m                            Traceback (most recent call last)",
      "File \u001b[1;32mc:\\Users\\augustin.morval\\OneDrive - Wavestone\\Bureau\\Dev Workspace\\Tools\\pyscript\\audio_recording.py:37\u001b[0m, in \u001b[0;36mmicro_recording\u001b[1;34m(save_folder_path, file_name, device_index)\u001b[0m\n\u001b[0;32m     36\u001b[0m \u001b[38;5;28mprint\u001b[39m(\u001b[38;5;124m\"\u001b[39m\u001b[38;5;124mRecording...\u001b[39m\u001b[38;5;124m\"\u001b[39m)\n\u001b[1;32m---> 37\u001b[0m audio \u001b[38;5;241m=\u001b[39m \u001b[43mr\u001b[49m\u001b[38;5;241;43m.\u001b[39;49m\u001b[43mlisten\u001b[49m\u001b[43m(\u001b[49m\u001b[43msource\u001b[49m\u001b[43m)\u001b[49m\n\u001b[0;32m     38\u001b[0m \u001b[38;5;28mprint\u001b[39m(\u001b[38;5;124m\"\u001b[39m\u001b[38;5;124mRecording finished.\u001b[39m\u001b[38;5;124m\"\u001b[39m)\n",
      "File \u001b[1;32mc:\\Users\\augustin.morval\\OneDrive - Wavestone\\Bureau\\Dev Workspace\\Tools\\.venv\\Lib\\site-packages\\speech_recognition\\__init__.py:465\u001b[0m, in \u001b[0;36mRecognizer.listen\u001b[1;34m(self, source, timeout, phrase_time_limit, snowboy_configuration)\u001b[0m\n\u001b[0;32m    464\u001b[0m \u001b[38;5;28;01massert\u001b[39;00m \u001b[38;5;28misinstance\u001b[39m(source, AudioSource), \u001b[38;5;124m\"\u001b[39m\u001b[38;5;124mSource must be an audio source\u001b[39m\u001b[38;5;124m\"\u001b[39m\n\u001b[1;32m--> 465\u001b[0m \u001b[38;5;28;01massert\u001b[39;00m source\u001b[38;5;241m.\u001b[39mstream \u001b[38;5;129;01mis\u001b[39;00m \u001b[38;5;129;01mnot\u001b[39;00m \u001b[38;5;28;01mNone\u001b[39;00m, \u001b[38;5;124m\"\u001b[39m\u001b[38;5;124mAudio source must be entered before listening, see documentation for ``AudioSource``; are you using ``source`` outside of a ``with`` statement?\u001b[39m\u001b[38;5;124m\"\u001b[39m\n\u001b[0;32m    466\u001b[0m \u001b[38;5;28;01massert\u001b[39;00m \u001b[38;5;28mself\u001b[39m\u001b[38;5;241m.\u001b[39mpause_threshold \u001b[38;5;241m>\u001b[39m\u001b[38;5;241m=\u001b[39m \u001b[38;5;28mself\u001b[39m\u001b[38;5;241m.\u001b[39mnon_speaking_duration \u001b[38;5;241m>\u001b[39m\u001b[38;5;241m=\u001b[39m \u001b[38;5;241m0\u001b[39m\n",
      "\u001b[1;31mAssertionError\u001b[0m: Audio source must be entered before listening, see documentation for ``AudioSource``; are you using ``source`` outside of a ``with`` statement?",
      "\nDuring handling of the above exception, another exception occurred:\n",
      "\u001b[1;31mAttributeError\u001b[0m                            Traceback (most recent call last)",
      "Cell \u001b[1;32mIn[2], line 4\u001b[0m\n\u001b[0;32m      1\u001b[0m \u001b[38;5;28;01mfrom\u001b[39;00m \u001b[38;5;21;01mpyscript\u001b[39;00m \u001b[38;5;28;01mimport\u001b[39;00m audio_recording\n\u001b[0;32m      3\u001b[0m available_devices, non_working_devices \u001b[38;5;241m=\u001b[39m audio_recording\u001b[38;5;241m.\u001b[39mcheck_available_device()\n\u001b[1;32m----> 4\u001b[0m audio \u001b[38;5;241m=\u001b[39m \u001b[43maudio_recording\u001b[49m\u001b[38;5;241;43m.\u001b[39;49m\u001b[43mmicro_recording\u001b[49m\u001b[43m(\u001b[49m\u001b[43mfile_name\u001b[49m\u001b[38;5;241;43m=\u001b[39;49m\u001b[38;5;124;43m\"\u001b[39;49m\u001b[38;5;124;43mtest\u001b[39;49m\u001b[38;5;124;43m\"\u001b[39;49m\u001b[43m)\u001b[49m\n",
      "File \u001b[1;32mc:\\Users\\augustin.morval\\OneDrive - Wavestone\\Bureau\\Dev Workspace\\Tools\\pyscript\\audio_recording.py:35\u001b[0m, in \u001b[0;36mmicro_recording\u001b[1;34m(save_folder_path, file_name, device_index)\u001b[0m\n\u001b[0;32m     33\u001b[0m r \u001b[38;5;241m=\u001b[39m sr\u001b[38;5;241m.\u001b[39mRecognizer()\n\u001b[0;32m     34\u001b[0m mic \u001b[38;5;241m=\u001b[39m sr\u001b[38;5;241m.\u001b[39mMicrophone(device_index\u001b[38;5;241m=\u001b[39mdevice_index)\n\u001b[1;32m---> 35\u001b[0m \u001b[43m\u001b[49m\u001b[38;5;28;43;01mwith\u001b[39;49;00m\u001b[43m \u001b[49m\u001b[43mmic\u001b[49m\u001b[43m \u001b[49m\u001b[38;5;28;43;01mas\u001b[39;49;00m\u001b[43m \u001b[49m\u001b[43msource\u001b[49m\u001b[43m:\u001b[49m\n\u001b[0;32m     36\u001b[0m \u001b[43m    \u001b[49m\u001b[38;5;28;43mprint\u001b[39;49m\u001b[43m(\u001b[49m\u001b[38;5;124;43m\"\u001b[39;49m\u001b[38;5;124;43mRecording...\u001b[39;49m\u001b[38;5;124;43m\"\u001b[39;49m\u001b[43m)\u001b[49m\n\u001b[0;32m     37\u001b[0m \u001b[43m    \u001b[49m\u001b[43maudio\u001b[49m\u001b[43m \u001b[49m\u001b[38;5;241;43m=\u001b[39;49m\u001b[43m \u001b[49m\u001b[43mr\u001b[49m\u001b[38;5;241;43m.\u001b[39;49m\u001b[43mlisten\u001b[49m\u001b[43m(\u001b[49m\u001b[43msource\u001b[49m\u001b[43m)\u001b[49m\n",
      "File \u001b[1;32mc:\\Users\\augustin.morval\\OneDrive - Wavestone\\Bureau\\Dev Workspace\\Tools\\.venv\\Lib\\site-packages\\speech_recognition\\__init__.py:189\u001b[0m, in \u001b[0;36mMicrophone.__exit__\u001b[1;34m(self, exc_type, exc_value, traceback)\u001b[0m\n\u001b[0;32m    187\u001b[0m \u001b[38;5;28;01mdef\u001b[39;00m \u001b[38;5;21m__exit__\u001b[39m(\u001b[38;5;28mself\u001b[39m, exc_type, exc_value, traceback):\n\u001b[0;32m    188\u001b[0m     \u001b[38;5;28;01mtry\u001b[39;00m:\n\u001b[1;32m--> 189\u001b[0m         \u001b[38;5;28;43mself\u001b[39;49m\u001b[38;5;241;43m.\u001b[39;49m\u001b[43mstream\u001b[49m\u001b[38;5;241;43m.\u001b[39;49m\u001b[43mclose\u001b[49m()\n\u001b[0;32m    190\u001b[0m     \u001b[38;5;28;01mfinally\u001b[39;00m:\n\u001b[0;32m    191\u001b[0m         \u001b[38;5;28mself\u001b[39m\u001b[38;5;241m.\u001b[39mstream \u001b[38;5;241m=\u001b[39m \u001b[38;5;28;01mNone\u001b[39;00m\n",
      "\u001b[1;31mAttributeError\u001b[0m: 'NoneType' object has no attribute 'close'"
     ]
    }
   ],
   "source": [
    "from pyscript import audio_recording\n",
    "\n",
    "available_devices, non_working_devices = audio_recording.check_available_device()\n",
    "audio = audio_recording.micro_recording(file_name=\"test\")"
   ]
  },
  {
   "cell_type": "code",
   "execution_count": 7,
   "metadata": {},
   "outputs": [],
   "source": [
    "import speech_recognition as sr\n",
    "import os\n",
    "import datetime\n",
    "\n",
    "def micro_recording(save_folder_path :str = \"audio_files\", file_name :str = None) ->  str:\n",
    "    \"\"\"Record from microphone and save to a designated file (optional).\n",
    "    Return  the path of the saved audio file.\"\"\"\n",
    "    r = sr.Recognizer()\n",
    "    mic = sr.Microphone(device_index=0)\n",
    "    with mic as source:\n",
    "        print(\"Recording...\")\n",
    "        audio = r.listen(source)\n",
    "        print(\"Recording finished.\")\n",
    "        \n",
    "        if not os.path.exists(save_folder_path):\n",
    "            print(f\"No {save_folder_path} folder found.\")\n",
    "            print(f\"Creating folder: {save_folder_path}\")\n",
    "            os.makedirs(save_folder_path)\n",
    "\n",
    "        if not file_name:\n",
    "            timestamp = datetime.datetime.now(\"%Y%m%d-%H%M%S\")\n",
    "            file_name = f\"recording_{timestamp}.wav\"\n",
    "        else : \n",
    "            file_name = f\"{file_name}.wav\"\n",
    "        saved_path = os.path.join(save_folder_path, file_name)\n",
    "        print(\"Saving file...\")\n",
    "        with open(saved_path, \"wb\") as f:\n",
    "            f.write(audio.get_wav_data())\n",
    "    print(f\"Audio file saved to {saved_path}\")\n",
    "    return saved_path"
   ]
  },
  {
   "cell_type": "code",
   "execution_count": 8,
   "metadata": {},
   "outputs": [
    {
     "name": "stdout",
     "output_type": "stream",
     "text": [
      "Recording...\n"
     ]
    },
    {
     "ename": "AttributeError",
     "evalue": "'NoneType' object has no attribute 'close'",
     "output_type": "error",
     "traceback": [
      "\u001b[1;31m---------------------------------------------------------------------------\u001b[0m",
      "\u001b[1;31mAssertionError\u001b[0m                            Traceback (most recent call last)",
      "Cell \u001b[1;32mIn[7], line 12\u001b[0m, in \u001b[0;36mmicro_recording\u001b[1;34m(save_folder_path, file_name)\u001b[0m\n\u001b[0;32m     11\u001b[0m \u001b[38;5;28mprint\u001b[39m(\u001b[38;5;124m\"\u001b[39m\u001b[38;5;124mRecording...\u001b[39m\u001b[38;5;124m\"\u001b[39m)\n\u001b[1;32m---> 12\u001b[0m audio \u001b[38;5;241m=\u001b[39m \u001b[43mr\u001b[49m\u001b[38;5;241;43m.\u001b[39;49m\u001b[43mlisten\u001b[49m\u001b[43m(\u001b[49m\u001b[43msource\u001b[49m\u001b[43m)\u001b[49m\n\u001b[0;32m     13\u001b[0m \u001b[38;5;28mprint\u001b[39m(\u001b[38;5;124m\"\u001b[39m\u001b[38;5;124mRecording finished.\u001b[39m\u001b[38;5;124m\"\u001b[39m)\n",
      "File \u001b[1;32mc:\\Users\\augustin.morval\\OneDrive - Wavestone\\Bureau\\Dev Workspace\\Tools\\.venv\\Lib\\site-packages\\speech_recognition\\__init__.py:465\u001b[0m, in \u001b[0;36mRecognizer.listen\u001b[1;34m(self, source, timeout, phrase_time_limit, snowboy_configuration)\u001b[0m\n\u001b[0;32m    464\u001b[0m \u001b[38;5;28;01massert\u001b[39;00m \u001b[38;5;28misinstance\u001b[39m(source, AudioSource), \u001b[38;5;124m\"\u001b[39m\u001b[38;5;124mSource must be an audio source\u001b[39m\u001b[38;5;124m\"\u001b[39m\n\u001b[1;32m--> 465\u001b[0m \u001b[38;5;28;01massert\u001b[39;00m source\u001b[38;5;241m.\u001b[39mstream \u001b[38;5;129;01mis\u001b[39;00m \u001b[38;5;129;01mnot\u001b[39;00m \u001b[38;5;28;01mNone\u001b[39;00m, \u001b[38;5;124m\"\u001b[39m\u001b[38;5;124mAudio source must be entered before listening, see documentation for ``AudioSource``; are you using ``source`` outside of a ``with`` statement?\u001b[39m\u001b[38;5;124m\"\u001b[39m\n\u001b[0;32m    466\u001b[0m \u001b[38;5;28;01massert\u001b[39;00m \u001b[38;5;28mself\u001b[39m\u001b[38;5;241m.\u001b[39mpause_threshold \u001b[38;5;241m>\u001b[39m\u001b[38;5;241m=\u001b[39m \u001b[38;5;28mself\u001b[39m\u001b[38;5;241m.\u001b[39mnon_speaking_duration \u001b[38;5;241m>\u001b[39m\u001b[38;5;241m=\u001b[39m \u001b[38;5;241m0\u001b[39m\n",
      "\u001b[1;31mAssertionError\u001b[0m: Audio source must be entered before listening, see documentation for ``AudioSource``; are you using ``source`` outside of a ``with`` statement?",
      "\nDuring handling of the above exception, another exception occurred:\n",
      "\u001b[1;31mAttributeError\u001b[0m                            Traceback (most recent call last)",
      "Cell \u001b[1;32mIn[8], line 1\u001b[0m\n\u001b[1;32m----> 1\u001b[0m mic \u001b[38;5;241m=\u001b[39m \u001b[43mmicro_recording\u001b[49m\u001b[43m(\u001b[49m\u001b[43m)\u001b[49m\n\u001b[0;32m      2\u001b[0m mic\n",
      "Cell \u001b[1;32mIn[7], line 10\u001b[0m, in \u001b[0;36mmicro_recording\u001b[1;34m(save_folder_path, file_name)\u001b[0m\n\u001b[0;32m      8\u001b[0m r \u001b[38;5;241m=\u001b[39m sr\u001b[38;5;241m.\u001b[39mRecognizer()\n\u001b[0;32m      9\u001b[0m mic \u001b[38;5;241m=\u001b[39m sr\u001b[38;5;241m.\u001b[39mMicrophone(device_index\u001b[38;5;241m=\u001b[39m\u001b[38;5;241m0\u001b[39m)\n\u001b[1;32m---> 10\u001b[0m \u001b[43m\u001b[49m\u001b[38;5;28;43;01mwith\u001b[39;49;00m\u001b[43m \u001b[49m\u001b[43mmic\u001b[49m\u001b[43m \u001b[49m\u001b[38;5;28;43;01mas\u001b[39;49;00m\u001b[43m \u001b[49m\u001b[43msource\u001b[49m\u001b[43m:\u001b[49m\n\u001b[0;32m     11\u001b[0m \u001b[43m    \u001b[49m\u001b[38;5;28;43mprint\u001b[39;49m\u001b[43m(\u001b[49m\u001b[38;5;124;43m\"\u001b[39;49m\u001b[38;5;124;43mRecording...\u001b[39;49m\u001b[38;5;124;43m\"\u001b[39;49m\u001b[43m)\u001b[49m\n\u001b[0;32m     12\u001b[0m \u001b[43m    \u001b[49m\u001b[43maudio\u001b[49m\u001b[43m \u001b[49m\u001b[38;5;241;43m=\u001b[39;49m\u001b[43m \u001b[49m\u001b[43mr\u001b[49m\u001b[38;5;241;43m.\u001b[39;49m\u001b[43mlisten\u001b[49m\u001b[43m(\u001b[49m\u001b[43msource\u001b[49m\u001b[43m)\u001b[49m\n",
      "File \u001b[1;32mc:\\Users\\augustin.morval\\OneDrive - Wavestone\\Bureau\\Dev Workspace\\Tools\\.venv\\Lib\\site-packages\\speech_recognition\\__init__.py:189\u001b[0m, in \u001b[0;36mMicrophone.__exit__\u001b[1;34m(self, exc_type, exc_value, traceback)\u001b[0m\n\u001b[0;32m    187\u001b[0m \u001b[38;5;28;01mdef\u001b[39;00m \u001b[38;5;21m__exit__\u001b[39m(\u001b[38;5;28mself\u001b[39m, exc_type, exc_value, traceback):\n\u001b[0;32m    188\u001b[0m     \u001b[38;5;28;01mtry\u001b[39;00m:\n\u001b[1;32m--> 189\u001b[0m         \u001b[38;5;28;43mself\u001b[39;49m\u001b[38;5;241;43m.\u001b[39;49m\u001b[43mstream\u001b[49m\u001b[38;5;241;43m.\u001b[39;49m\u001b[43mclose\u001b[49m()\n\u001b[0;32m    190\u001b[0m     \u001b[38;5;28;01mfinally\u001b[39;00m:\n\u001b[0;32m    191\u001b[0m         \u001b[38;5;28mself\u001b[39m\u001b[38;5;241m.\u001b[39mstream \u001b[38;5;241m=\u001b[39m \u001b[38;5;28;01mNone\u001b[39;00m\n",
      "\u001b[1;31mAttributeError\u001b[0m: 'NoneType' object has no attribute 'close'"
     ]
    }
   ],
   "source": [
    "mic = micro_recording()\n",
    "mic"
   ]
  },
  {
   "cell_type": "code",
   "execution_count": 10,
   "metadata": {},
   "outputs": [
    {
     "name": "stdout",
     "output_type": "stream",
     "text": [
      "Recording...\n",
      "Recording finished.\n"
     ]
    }
   ],
   "source": [
    "import speech_recognition as sr\n",
    "\n",
    "def micro_recording():\n",
    "    r = sr.Recognizer()\n",
    "    mic = sr.Microphone(device_index=0)\n",
    "\n",
    "    with mic as source:\n",
    "        print(\"Recording...\")\n",
    "        audio = r.listen(source)\n",
    "        print(\"Recording finished.\")\n",
    "\n",
    "    return audio\n",
    "\n",
    "mic = micro_recording()"
   ]
  },
  {
   "cell_type": "code",
   "execution_count": 11,
   "metadata": {},
   "outputs": [
    {
     "name": "stdout",
     "output_type": "stream",
     "text": [
      "<speech_recognition.audio.AudioData object at 0x0000017179579070>\n"
     ]
    }
   ],
   "source": [
    "print(mic)"
   ]
  },
  {
   "cell_type": "code",
   "execution_count": 4,
   "metadata": {},
   "outputs": [
    {
     "name": "stdout",
     "output_type": "stream",
     "text": [
      "Some devices are not available.\n"
     ]
    },
    {
     "ename": "TypeError",
     "evalue": "cannot unpack non-iterable NoneType object",
     "output_type": "error",
     "traceback": [
      "\u001b[1;31m---------------------------------------------------------------------------\u001b[0m",
      "\u001b[1;31mTypeError\u001b[0m                                 Traceback (most recent call last)",
      "Cell \u001b[1;32mIn[4], line 3\u001b[0m\n\u001b[0;32m      1\u001b[0m \u001b[38;5;28;01mfrom\u001b[39;00m \u001b[38;5;21;01mpyscript\u001b[39;00m \u001b[38;5;28;01mimport\u001b[39;00m Audio\n\u001b[0;32m      2\u001b[0m recorder \u001b[38;5;241m=\u001b[39m Audio()\n\u001b[1;32m----> 3\u001b[0m available, non \u001b[38;5;241m=\u001b[39m recorder\u001b[38;5;241m.\u001b[39mcheck_available_device()\n\u001b[0;32m      4\u001b[0m \u001b[38;5;28mprint\u001b[39m(\u001b[38;5;28mtype\u001b[39m(available))\n",
      "\u001b[1;31mTypeError\u001b[0m: cannot unpack non-iterable NoneType object"
     ]
    }
   ],
   "source": [
    "from pyscript import Audio\n",
    "recorder = Audio()\n",
    "available, non = recorder.check_available_device()\n",
    "print(type(available))\n"
   ]
  },
  {
   "cell_type": "code",
   "execution_count": null,
   "metadata": {},
   "outputs": [],
   "source": []
  }
 ],
 "metadata": {
  "kernelspec": {
   "display_name": ".venv",
   "language": "python",
   "name": "python3"
  },
  "language_info": {
   "codemirror_mode": {
    "name": "ipython",
    "version": 3
   },
   "file_extension": ".py",
   "mimetype": "text/x-python",
   "name": "python",
   "nbconvert_exporter": "python",
   "pygments_lexer": "ipython3",
   "version": "3.12.3"
  }
 },
 "nbformat": 4,
 "nbformat_minor": 2
}

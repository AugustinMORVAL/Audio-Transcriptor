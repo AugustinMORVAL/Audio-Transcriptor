{
 "cells": [
  {
   "cell_type": "code",
   "execution_count": 1,
   "metadata": {},
   "outputs": [
    {
     "name": "stderr",
     "output_type": "stream",
     "text": [
      "torchvision is not available - cannot save figures\n"
     ]
    },
    {
     "name": "stdout",
     "output_type": "stream",
     "text": [
      "Processing audio file...\n"
     ]
    },
    {
     "name": "stderr",
     "output_type": "stream",
     "text": [
      "Writing transcript: 100%|\u001b[32m████████████████████████████████████████\u001b[0m| 4/4 [00:10<00:00,  2.56s/segment]\u001b[0m\n"
     ]
    },
    {
     "name": "stdout",
     "output_type": "stream",
     "text": [
      "SPEAKER_00:  The stale smell of old beer lingers. It takes heat to bring out the odor. The stale smell of old beer lingers. It takes heat to bring out the odor.\n",
      "SPEAKER_00:  A cold dip restores health and zest. A salt pickled taste fine with ham. A cold dip restores health and zest. A salt pickled taste fine with ham.\n",
      "SPEAKER_00:  Tacos Alpastora are my favorite. Tacos Alpastora are my favorite.\n",
      "SPEAKER_00:  A zestful food is the hot cross bun. A zestful food is the hot cross bun.\n"
     ]
    }
   ],
   "source": [
    "from pyscript import Transcript\n",
    "\n",
    "audio = \"audio-test/harvard.wav\"\n",
    "transcript = Transcript(audio)"
   ]
  },
  {
   "cell_type": "code",
   "execution_count": 2,
   "metadata": {},
   "outputs": [],
   "source": [
    "transcript.save()"
   ]
  },
  {
   "cell_type": "code",
   "execution_count": null,
   "metadata": {},
   "outputs": [],
   "source": []
  }
 ],
 "metadata": {
  "kernelspec": {
   "display_name": ".venv",
   "language": "python",
   "name": "python3"
  },
  "language_info": {
   "codemirror_mode": {
    "name": "ipython",
    "version": 3
   },
   "file_extension": ".py",
   "mimetype": "text/x-python",
   "name": "python",
   "nbconvert_exporter": "python",
   "pygments_lexer": "ipython3",
   "version": "3.12.3"
  }
 },
 "nbformat": 4,
 "nbformat_minor": 2
}

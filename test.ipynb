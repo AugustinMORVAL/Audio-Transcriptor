{
 "cells": [
  {
   "cell_type": "markdown",
   "metadata": {},
   "source": [
    "f"
   ]
  },
  {
   "cell_type": "code",
   "execution_count": 1,
   "metadata": {},
   "outputs": [
    {
     "name": "stdout",
     "output_type": "stream",
     "text": [
      "Initializing whisper...\n",
      "Whisper initialized successfully.\n",
      "Processing audio file...\n",
      "Audio file processed successfully in 15.792394638061523.\n"
     ]
    }
   ],
   "source": [
    "from pyscript import Transcriptor\n",
    "\n",
    "transcriptor = Transcriptor()\n",
    "transcriptions = transcriptor.diarization(\"audio-test\\harvard.wav\")"
   ]
  },
  {
   "cell_type": "code",
   "execution_count": 4,
   "metadata": {},
   "outputs": [
    {
     "name": "stdout",
     "output_type": "stream",
     "text": [
      "Speaker: Speaker 1, Named Entity: paul, Label: PERSON\n",
      "Speaker: Speaker 2, Named Entity: paul, Label: PERSON\n"
     ]
    }
   ],
   "source": [
    "import spacy\n",
    "\n",
    "# Load the spaCy NER model\n",
    "nlp = spacy.load(\"en_core_web_sm\")\n",
    "\n",
    "# Define a function to extract named entities from a text\n",
    "def extract_named_entities(text):\n",
    "    doc = nlp(text)\n",
    "    named_entities = [(ent.text, ent.label_) for ent in doc.ents]\n",
    "    return named_entities\n",
    "\n",
    "# Use the function to extract named entities from the transcriptions\n",
    "transcriptions = [(\"Speaker 1\", \"Hello my name is paul.\"),\n",
    "                  (\"Speaker 2\", \"Nice to meet you paul, I'm edward.\")]\n",
    "named_entities = [(speaker, extract_named_entities(transcription)) for speaker, transcription in transcriptions]\n",
    "for speaker, entities in named_entities:\n",
    "    for entity, label in entities:\n",
    "        print(f\"Speaker: {speaker}, Named Entity: {entity}, Label: {label}\")\n",
    "\n"
   ]
  },
  {
   "cell_type": "code",
   "execution_count": 6,
   "metadata": {},
   "outputs": [
    {
     "name": "stdout",
     "output_type": "stream",
     "text": [
      "Speaker: Jean, Named Entity: Jean, Label: PERSON\n",
      "Speaker: paul, Named Entity: paul, Label: PERSON\n"
     ]
    }
   ],
   "source": [
    "# Load the spaCy NER model\n",
    "nlp = spacy.load(\"en_core_web_sm\")\n",
    "\n",
    "# Define a function to extract named entities from a text\n",
    "def extract_named_entities(text):\n",
    "    doc = nlp(text)\n",
    "    named_entities = [(ent.text, ent.label_) for ent in doc.ents]\n",
    "    return named_entities\n",
    "\n",
    "# Use the function to extract named entities from the transcriptions\n",
    "transcriptions = [(\"Speaker 1\", \"Bonjour je m'appelle Jean.\"),\n",
    "                  (\"Speaker 2\", \"Nice to meet you paul, I'm edward.\")]\n",
    "named_entities = [(speaker, extract_named_entities(transcription)) for speaker, transcription in transcriptions]\n",
    "\n",
    "# Create a dictionary to map speaker numbers to their names\n",
    "speaker_names = {}\n",
    "for speaker, entities in named_entities:\n",
    "    for entity, label in entities:\n",
    "        if label == \"PERSON\" and speaker not in speaker_names:\n",
    "            speaker_names[speaker] = entity\n",
    "\n",
    "# Print the named entities and their labels, along with the speaker's name\n",
    "for speaker, entities in named_entities:\n",
    "    for entity, label in entities:\n",
    "        print(f\"Speaker: {speaker_names[speaker]}, Named Entity: {entity}, Label: {label}\")\n"
   ]
  },
  {
   "cell_type": "code",
   "execution_count": null,
   "metadata": {},
   "outputs": [],
   "source": []
  }
 ],
 "metadata": {
  "kernelspec": {
   "display_name": ".venv",
   "language": "python",
   "name": "python3"
  },
  "language_info": {
   "codemirror_mode": {
    "name": "ipython",
    "version": 3
   },
   "file_extension": ".py",
   "mimetype": "text/x-python",
   "name": "python",
   "nbconvert_exporter": "python",
   "pygments_lexer": "ipython3",
   "version": "3.11.9"
  }
 },
 "nbformat": 4,
 "nbformat_minor": 2
}

{
 "cells": [
  {
   "cell_type": "code",
   "execution_count": 1,
   "metadata": {},
   "outputs": [],
   "source": [
    "from pyscript import Processor\n",
    "\n",
    "formating = Processor(\"audio-test/meeting-clip2.wav\")"
   ]
  },
  {
   "cell_type": "code",
   "execution_count": 3,
   "metadata": {},
   "outputs": [
    {
     "ename": "AttributeError",
     "evalue": "'Processor' object has no attribute 'show_details'",
     "output_type": "error",
     "traceback": [
      "\u001b[1;31m---------------------------------------------------------------------------\u001b[0m",
      "\u001b[1;31mAttributeError\u001b[0m                            Traceback (most recent call last)",
      "Cell \u001b[1;32mIn[3], line 1\u001b[0m\n\u001b[1;32m----> 1\u001b[0m \u001b[43mformating\u001b[49m\u001b[38;5;241;43m.\u001b[39;49m\u001b[43mshow_details\u001b[49m()\n",
      "\u001b[1;31mAttributeError\u001b[0m: 'Processor' object has no attribute 'show_details'"
     ]
    }
   ],
   "source": [
    "formating.show_details()"
   ]
  },
  {
   "cell_type": "code",
   "execution_count": 1,
   "metadata": {},
   "outputs": [
    {
     "name": "stdout",
     "output_type": "stream",
     "text": [
      "An error occurred while testing device Mappeur de sons Microsoft - Input: 'Microphone' object has no attribute 'listen'\n",
      "An error occurred while testing device Microphone (Realtek(R) Audio): 'Microphone' object has no attribute 'listen'\n",
      "An error occurred while testing device Mappeur de sons Microsoft - Output: 'Microphone' object has no attribute 'listen'\n",
      "An error occurred while testing device Haut-parleurs (Realtek(R) Audio: 'Microphone' object has no attribute 'listen'\n",
      "An error occurred while testing device Pilote de capture audio principal: 'Microphone' object has no attribute 'listen'\n",
      "An error occurred while testing device Microphone (Realtek(R) Audio): 'Microphone' object has no attribute 'listen'\n",
      "An error occurred while testing device PÃ©riphÃ©rique audio principal: 'Microphone' object has no attribute 'listen'\n",
      "An error occurred while testing device Haut-parleurs (Realtek(R) Audio): 'Microphone' object has no attribute 'listen'\n",
      "An error occurred while testing device Haut-parleurs (Realtek(R) Audio): 'Microphone' object has no attribute 'listen'\n",
      "An error occurred while testing device Microphone (Realtek(R) Audio): 'Microphone' object has no attribute 'listen'\n",
      "An error occurred while testing device Speakers (Realtek HD Audio output): 'Microphone' object has no attribute 'listen'\n",
      "An error occurred while testing device RÃ©seau de microphones (Realtek HD Audio Mic input): 'Microphone' object has no attribute 'listen'\n",
      "An error occurred while testing device Mixage stÃ©rÃ©o (Realtek HD Audio Stereo input): 'Microphone' object has no attribute 'listen'\n",
      "An error occurred while testing device Casque (@System32\\drivers\\bthhfenum.sys,#2;%1 Hands-Free%0\n",
      ";(Bose QC35 II Aug)): 'Microphone' object has no attribute 'listen'\n",
      "An error occurred while testing device Casque (@System32\\drivers\\bthhfenum.sys,#2;%1 Hands-Free%0\n",
      ";(Bose QC35 II Aug)): 'Microphone' object has no attribute 'listen'\n",
      "An error occurred while testing device Casque (): 'Microphone' object has no attribute 'listen'\n",
      "An error occurred while testing device Casque (): 'Microphone' object has no attribute 'listen'\n",
      "\n",
      "Available Devices:\n",
      "Index    Device Name\n",
      "-------  -------------\n",
      "\n",
      "Non-Working Devices:\n",
      "Index    Device Name\n",
      "-------  -------------\n"
     ]
    },
    {
     "data": {
      "text/plain": [
       "{'available_devices': [], 'non_working_devices': []}"
      ]
     },
     "execution_count": 1,
     "metadata": {},
     "output_type": "execute_result"
    }
   ],
   "source": [
    "from pyscript import audio_recording\n",
    "audio_recording.check_input_device()\n",
    "\n"
   ]
  },
  {
   "cell_type": "code",
   "execution_count": null,
   "metadata": {},
   "outputs": [],
   "source": []
  }
 ],
 "metadata": {
  "kernelspec": {
   "display_name": ".venv",
   "language": "python",
   "name": "python3"
  },
  "language_info": {
   "codemirror_mode": {
    "name": "ipython",
    "version": 3
   },
   "file_extension": ".py",
   "mimetype": "text/x-python",
   "name": "python",
   "nbconvert_exporter": "python",
   "pygments_lexer": "ipython3",
   "version": "3.11.9"
  }
 },
 "nbformat": 4,
 "nbformat_minor": 2
}

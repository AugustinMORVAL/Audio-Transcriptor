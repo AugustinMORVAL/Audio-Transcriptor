{
 "cells": [
  {
   "cell_type": "code",
   "execution_count": 1,
   "metadata": {},
   "outputs": [
    {
     "name": "stderr",
     "output_type": "stream",
     "text": [
      "2024-07-21 23:30:53.507 \n",
      "  \u001b[33m\u001b[1mWarning:\u001b[0m to view this Streamlit app on a browser, run it with the following\n",
      "  command:\n",
      "\n",
      "    streamlit run c:\\Users\\Augustin\\Desktop\\GitPro\\Tools\\.venv\\Lib\\site-packages\\ipykernel_launcher.py [ARGUMENTS]\n",
      "2024-07-21 23:30:53.507 Session state does not function when running a script without `streamlit run`\n"
     ]
    },
    {
     "name": "stdout",
     "output_type": "stream",
     "text": [
      "audio_files/recording_20240622-142733.wav\n",
      " Salut les gars, c'est Jean-Michel.\n"
     ]
    }
   ],
   "source": [
    "import os\n",
    "from dotenv import load_dotenv\n",
    "from app import Groq\n",
    "\n",
    "load_dotenv()\n",
    "GROQ_API_KEY = os.getenv(\"GROQ_API_KEY\")\n",
    "\n",
    "client = Groq(api_key=GROQ_API_KEY)\n",
    "filename = \"audio_files/recording_20240622-142733.wav\"\n",
    "\n",
    "with open(filename, \"rb\") as file:\n",
    "    transcription = client.audio.transcriptions.create(\n",
    "        file = (filename, file.read()),\n",
    "        model = \"whisper-large-v3\"\n",
    "    )\n",
    "    print(filename)\n",
    "    print(transcription.text)"
   ]
  },
  {
   "cell_type": "code",
   "execution_count": 5,
   "metadata": {},
   "outputs": [
    {
     "name": "stdout",
     "output_type": "stream",
     "text": [
      " Well, from my point of view, what Paul is proposing sounds fine. I am a bit concerned about working with a system of core hours and then flexible hours.\n"
     ]
    }
   ],
   "source": [
    "from pydub import AudioSegment\n",
    "import os\n",
    "from dotenv import load_dotenv\n",
    "from groq import Groq\n",
    "\n",
    "load_dotenv()\n",
    "GROQ_API_KEY = os.getenv(\"GROQ_API_KEY\")\n",
    "\n",
    "client = Groq(api_key=GROQ_API_KEY)\n",
    "# Load the audio file\n",
    "audio = AudioSegment.from_file(\"audio-test/meeting-clip2.wav\")\n",
    "\n",
    "# Extract a segment of the audio file (e.g., from 10 to 20 seconds)\n",
    "segment = audio[0:10000]\n",
    "\n",
    "# Convert the segment to bytes\n",
    "segment_bytes = segment.export(format=\"wav\").read()\n",
    "\n",
    "# Transcribe the audio segment\n",
    "transcription = client.audio.transcriptions.create(\n",
    "    file=(\"segment.wav\", segment_bytes),\n",
    "    model=\"whisper-large-v3\"\n",
    ")\n",
    "print(transcription.text)\n"
   ]
  },
  {
   "cell_type": "code",
   "execution_count": null,
   "metadata": {},
   "outputs": [
    {
     "name": "stdout",
     "output_type": "stream",
     "text": [
      "Model(id='gemma2-9b-it', created=1693721698, object='model', owned_by='Google', active=True, context_window=8192, public_apps=None)\n",
      "l\n"
     ]
    }
   ],
   "source": [
    "models = client.models.list()\n",
    "for model in models:\n",
    "    print(model[1][0])\n"
   ]
  },
  {
   "cell_type": "code",
   "execution_count": null,
   "metadata": {},
   "outputs": [
    {
     "name": "stdout",
     "output_type": "stream",
     "text": [
      "Model(id='gemma2-9b-it', created=1693721698, object='model', owned_by='Google', active=True, context_window=8192, public_apps=None)\n",
      "l\n"
     ]
    }
   ],
   "source": [
    "models = client.models.list()\n",
    "for model in models:\n",
    "    print(model[1][0])\n"
   ]
  },
  {
   "cell_type": "code",
   "execution_count": 3,
   "metadata": {},
   "outputs": [
    {
     "name": "stdout",
     "output_type": "stream",
     "text": [
      "Model(id='gemma2-9b-it', created=1693721698, object='model', owned_by='Google', active=True, context_window=8192, public_apps=None)\n",
      "l\n"
     ]
    }
   ],
   "source": [
    "models = client.models.list()\n",
    "for model in models:\n",
    "    print(model[1][0])\n"
   ]
  },
  {
   "cell_type": "code",
   "execution_count": null,
   "metadata": {},
   "outputs": [
    {
     "name": "stdout",
     "output_type": "stream",
     "text": [
      "Model(id='gemma2-9b-it', created=1693721698, object='model', owned_by='Google', active=True, context_window=8192, public_apps=None)\n",
      "l\n"
     ]
    }
   ],
   "source": [
    "models = client.models.list()\n",
    "for model in models:\n",
    "    print(model[1][0])\n"
   ]
  },
  {
   "cell_type": "code",
   "execution_count": null,
   "metadata": {},
   "outputs": [
    {
     "name": "stdout",
     "output_type": "stream",
     "text": [
      "Model(id='gemma2-9b-it', created=1693721698, object='model', owned_by='Google', active=True, context_window=8192, public_apps=None)\n",
      "l\n"
     ]
    }
   ],
   "source": [
    "models = client.models.list()\n",
    "for model in models:\n",
    "    print(model[1][0])\n"
   ]
  },
  {
   "cell_type": "code",
   "execution_count": 4,
   "metadata": {},
   "outputs": [
    {
     "name": "stdout",
     "output_type": "stream",
     "text": [
      "Model(id='gemma2-9b-it', created=1693721698, object='model', owned_by='Google', active=True, context_window=8192, public_apps=None)\n",
      "Model(id='gemma-7b-it', created=1693721698, object='model', owned_by='Google', active=True, context_window=8192, public_apps=None)\n",
      "Model(id='llama3-70b-8192', created=1693721698, object='model', owned_by='Meta', active=True, context_window=8192, public_apps=None)\n",
      "Model(id='llama3-8b-8192', created=1693721698, object='model', owned_by='Meta', active=True, context_window=8192, public_apps=None)\n",
      "Model(id='llama3-groq-70b-8192-tool-use-preview', created=1693721698, object='model', owned_by='Groq', active=True, context_window=8192, public_apps=None)\n",
      "Model(id='llama3-groq-8b-8192-tool-use-preview', created=1693721698, object='model', owned_by='Groq', active=True, context_window=8192, public_apps=None)\n",
      "Model(id='mixtral-8x7b-32768', created=1693721698, object='model', owned_by='Mistral AI', active=True, context_window=32768, public_apps=None)\n",
      "Model(id='whisper-large-v3', created=1693721698, object='model', owned_by='OpenAI', active=True, context_window=1500, public_apps=None)\n"
     ]
    }
   ],
   "source": [
    "models = client.models.list()\n",
    "for model in models.data:\n",
    "    print(model)\n",
    "\n"
   ]
  },
  {
   "cell_type": "code",
   "execution_count": 5,
   "metadata": {},
   "outputs": [],
   "source": [
    "import os\n",
    "from dotenv import load_dotenv\n",
    "from app import Groq\n",
    "import streamlit as st\n",
    "\n",
    "load_dotenv()\n",
    "GROQ_API_KEY = os.getenv(\"GROQ_API_KEY\")\n",
    "\n",
    "client = Groq(api_key=GROQ_API_KEY)\n",
    "\n",
    "def transcript_audio(file):\n",
    "    transcription = client.audio.transcriptions.create(\n",
    "        file = (file.name, file.read()),\n",
    "        model = \"whisper-large-v3\"\n",
    "    )\n",
    "    return transcription.text\n",
    "\n",
    "def main():\n",
    "    st.title(\"Audio Transcription App\")\n",
    "\n",
    "    uploaded_file = st.file_uploader(\"Choose an audio file\", type=[\"wav\"])\n",
    "\n",
    "    if uploaded_file is not None:\n",
    "        if st.button(\"Transcript\"):\n",
    "            transcript = transcript_audio(uploaded_file)\n",
    "            st.write(transcript)\n",
    "\n",
    "if __name__ == \"__main__\":\n",
    "    main()\n"
   ]
  },
  {
   "cell_type": "code",
   "execution_count": null,
   "metadata": {},
   "outputs": [],
   "source": []
  }
 ],
 "metadata": {
  "kernelspec": {
   "display_name": ".venv",
   "language": "python",
   "name": "python3"
  },
  "language_info": {
   "codemirror_mode": {
    "name": "ipython",
    "version": 3
   },
   "file_extension": ".py",
   "mimetype": "text/x-python",
   "name": "python",
   "nbconvert_exporter": "python",
   "pygments_lexer": "ipython3",
   "version": "3.11.9"
  }
 },
 "nbformat": 4,
 "nbformat_minor": 2
}
